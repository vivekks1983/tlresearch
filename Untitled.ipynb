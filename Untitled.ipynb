{
 "cells": [
  {
   "cell_type": "code",
   "execution_count": 11,
   "metadata": {},
   "outputs": [
    {
     "data": {
      "image/png": "[encoded data removed]",
      "text/plain": [
       "<matplotlib.figure.Figure at 0x7fece2fa0710>"
      ]
     },
     "metadata": {},
     "output_type": "display_data"
    }
   ],
   "source": [
    "import matplotlib.pyplot as plt\n",
    "\n",
    "plt.figure(1, figsize = (8.5,11))\n",
    "plt.suptitle('plot title')\n",
    "ax = []\n",
    "aPlot = plt.subplot(321, axisbg = 'w', title = \"Year 1\")\n",
    "ax.append(aPlot)\n",
    "paramValues = [1,2,3,4,5]\n",
    "plotDataPrice = [2,4,6,8,9]\n",
    "plt.plot(paramValues,plotDataPrice, color = '#340B8C', \n",
    "     marker = 'o', ms = 5, mfc = '#EB1717')\n",
    "plt.xticks(paramValues)\n",
    "plt.ylabel('Average Price')\n",
    "plt.xlabel('Mark-up')\n",
    "plt.grid(True)\n",
    "plt.ylim((25,250))\n",
    "plt.show()"
   ]
  },
  {
   "cell_type": "code",
   "execution_count": null,
   "metadata": {
    "collapsed": true
   },
   "outputs": [],
   "source": []
  },
  {
   "cell_type": "code",
   "execution_count": null,
   "metadata": {
    "collapsed": true
   },
   "outputs": [],
   "source": []
  }
 ],
 "metadata": {
  "kernelspec": {
   "display_name": "Python 3",
   "language": "python",
   "name": "python3"
  },
  "language_info": {
   "codemirror_mode": {
    "name": "ipython",
    "version": 3
   },
   "file_extension": ".py",
   "mimetype": "text/x-python",
   "name": "python",
   "nbconvert_exporter": "python",
   "pygments_lexer": "ipython3",
   "version": "3.6.1"
  }
 },
 "nbformat": 4,
 "nbformat_minor": 2
}

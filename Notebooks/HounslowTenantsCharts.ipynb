{
 "cells": [
  {
   "cell_type": "code",
   "execution_count": 3,
   "metadata": {},
   "outputs": [
    {
     "data": {
      "image/png": "[encoded data removed]",
      "text/plain": [
       "<matplotlib.figure.Figure at 0x7f6d44567198>"
      ]
     },
     "metadata": {},
     "output_type": "display_data"
    }
   ],
   "source": [
    "from pandas.io.json import json_normalize\n",
    "from pymongo import MongoClient\n",
    "import numpy as np\n",
    "import matplotlib.pyplot as plt\n",
    "import datetime\n",
    "from matplotlib.gridspec import GridSpec\n",
    "\n",
    "client = MongoClient()\n",
    "db = client.test\n",
    "collection = db['HmoListHounslow']\n",
    "cursor = list(collection.find({}, {'_id': False}))\n",
    "result = json_normalize(cursor)\n",
    "lessthenfive=0\n",
    "fiveTenants=0\n",
    "sixtenants=0\n",
    "seventenents=0\n",
    "greaterthenseven=0\n",
    "\n",
    "for index, row in result.iterrows():\n",
    "    if int(row['NumberofPersons']) < 5:\n",
    "        lessthenfive=lessthenfive+1\n",
    "    if int(row['NumberofPersons']) == 5:\n",
    "        fiveTenants=fiveTenants+1\n",
    "    elif int(row['NumberofPersons']) == 6:\n",
    "        sixtenants=sixtenants+1\n",
    "    elif int(row['NumberofPersons']) == 7:\n",
    "        seventenents=seventenents+1\n",
    "    elif int(row['NumberofPersons']) > 7:\n",
    "        greaterthenseven=greaterthenseven+1\n",
    "\n",
    "labels =  'Less then 5 Tenants', '5 Tenants', '6 Tenants', '7 Tenants', '8 Tenants' \n",
    "sizes = [lessthenfive,fiveTenants, sixtenants, seventenents,greaterthenseven]\n",
    "explode = (0, 0.1, 0, 0, 0)  # only \"explode\" the 2nd slice (i.e. 'Hogs')\n",
    "\n",
    "fig1, ax1 = plt.subplots()\n",
    "ax1.pie(sizes, explode=explode, labels=labels, autopct='%1.1f%%',\n",
    "        shadow=True, startangle=90)\n",
    "ax1.axis('equal')  # Equal aspect ratio ensures that pie is drawn as a circle.\n",
    "\n",
    "plt.show()"
   ]
  },
  {
   "cell_type": "code",
   "execution_count": 1,
   "metadata": {},
   "outputs": [
    {
     "data": {
      "text/html": [
       "<script>\n",
       "code_show=true; \n",
       "function code_toggle() {\n",
       " if (code_show){\n",
       " $('div.input').hide();\n",
       " } else {\n",
       " $('div.input').show();\n",
       " }\n",
       " code_show = !code_show\n",
       "} \n",
       "$( document ).ready(code_toggle);\n",
       "</script>\n",
       "<form action=\"javascript:code_toggle()\"><input type=\"submit\" value=\"Click here to toggle on/off the raw code.\"></form>"
      ],
      "text/plain": [
       "<IPython.core.display.HTML object>"
      ]
     },
     "execution_count": 1,
     "metadata": {},
     "output_type": "execute_result"
    }
   ],
   "source": [
    "from IPython.display import HTML\n",
    "\n",
    "HTML('''<script>\n",
    "code_show=true; \n",
    "function code_toggle() {\n",
    " if (code_show){\n",
    " $('div.input').hide();\n",
    " } else {\n",
    " $('div.input').show();\n",
    " }\n",
    " code_show = !code_show\n",
    "} \n",
    "$( document ).ready(code_toggle);\n",
    "</script>\n",
    "<form action=\"javascript:code_toggle()\"><input type=\"submit\" value=\"Click here to toggle on/off the raw code.\"></form>''')\n",
    "\n",
    "\n"
   ]
  },
  {
   "cell_type": "code",
   "execution_count": null,
   "metadata": {
    "collapsed": true
   },
   "outputs": [],
   "source": []
  }
 ],
 "metadata": {
  "kernelspec": {
   "display_name": "Python 3",
   "language": "python",
   "name": "python3"
  },
  "language_info": {
   "codemirror_mode": {
    "name": "ipython",
    "version": 3
   },
   "file_extension": ".py",
   "mimetype": "text/x-python",
   "name": "python",
   "nbconvert_exporter": "python",
   "pygments_lexer": "ipython3",
   "version": "3.6.1"
  }
 },
 "nbformat": 4,
 "nbformat_minor": 2
}

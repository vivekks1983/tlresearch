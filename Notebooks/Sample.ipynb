{
 "cells": [
  {
   "cell_type": "code",
   "execution_count": 4,
   "metadata": {},
   "outputs": [
    {
     "data": {
      "image/png": "[encoded data removed]",
      "text/plain": [
       "<matplotlib.figure.Figure at 0x7f858fbec128>"
      ]
     },
     "metadata": {},
     "output_type": "display_data"
    }
   ],
   "source": [
    "import matplotlib.pyplot as plt\n",
    "import numpy as np\n",
    "\n",
    "data = ((3, 1000), (10, 3), (100, 30), (500, 800), (50, 1))\n",
    "\n",
    "plt.xlabel(\"Education \")\n",
    "plt.ylabel(\"Expenditure\")\n",
    "plt.title(\"Education Expenditure\")\n",
    "plt.yscale('log')\n",
    "\n",
    "dim = len(data[0])\n",
    "w = 0.75\n",
    "dimw = w / dim\n",
    "\n",
    "x = np.arange(len(data))\n",
    "for i in range(len(data[0])):\n",
    "    y = [d[i] for d in data]\n",
    "    b = plt.bar(x + i * dimw, y, dimw, bottom=0.001)\n",
    "\n",
    "plt.xticks(x + dimw / 2, map(str, x))\n",
    "\n",
    "plt.show()\n"
   ]
  },
  {
   "cell_type": "code",
   "execution_count": null,
   "metadata": {
    "collapsed": true
   },
   "outputs": [],
   "source": []
  }
 ],
 "metadata": {
  "kernelspec": {
   "display_name": "Python 3",
   "language": "python",
   "name": "python3"
  },
  "language_info": {
   "codemirror_mode": {
    "name": "ipython",
    "version": 3
   },
   "file_extension": ".py",
   "mimetype": "text/x-python",
   "name": "python",
   "nbconvert_exporter": "python",
   "pygments_lexer": "ipython3",
   "version": "3.6.1"
  }
 },
 "nbformat": 4,
 "nbformat_minor": 2
}

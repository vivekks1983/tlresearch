{
 "cells": [
  {
   "cell_type": "code",
   "execution_count": 18,
   "metadata": {},
   "outputs": [
    {
     "data": {
      "image/png": "[encoded data removed]",
      "text/plain": [
       "<matplotlib.figure.Figure at 0x7ff6900be828>"
      ]
     },
     "metadata": {},
     "output_type": "display_data"
    }
   ],
   "source": [
    "from pandas.io.json import json_normalize\n",
    "from pymongo import MongoClient\n",
    "import numpy as np\n",
    "import matplotlib.pyplot as plt\n",
    "import datetime\n",
    "from matplotlib.gridspec import GridSpec\n",
    "\n",
    "client = MongoClient()\n",
    "db = client.test\n",
    "collection = db['HMODataFOI']\n",
    "cursor = list(collection.find({}, {'_id': False}))\n",
    "result = json_normalize(cursor)\n",
    "\n",
    "BarnetA=0\n",
    "CamdenA=0\n",
    "HammersmithA=0\n",
    "HillingdonA=0\n",
    "HounslowA=0\n",
    "BarnetB=0\n",
    "CamdenB=0\n",
    "HammersmithB=0\n",
    "HillingdonB=0\n",
    "HounslowB=0\n",
    "\n",
    "\n",
    "for index, row in result.iterrows():\n",
    "    if (row['Council']) == 'Barnet':\n",
    "        BarnetA=int(row['A'])\n",
    "        BarnetB=int(row['B'])\n",
    "\n",
    "    elif (row['Council']) == 'Camden':\n",
    "        CamdenA=int(row['A'])\n",
    "        CamdenB=int(row['B'])\n",
    "    elif (row['Council']) == 'Hammersmith and Fulham':\n",
    "        HammersmithA=int(row['A'])\n",
    "        HammersmithB=int(row['B'])\n",
    "    elif (row['Council']) == 'Hillingdon':\n",
    "        HillingdonA=int(row['A'])\n",
    "        HillingdonB=int(row['B'])\n",
    "    elif (row['Council']) == 'Hounslow':\n",
    "        HounslowA=int(row['A'])\n",
    "        HounslowB=int(row['B'])\n",
    "\n",
    "N = 5\n",
    "lic_h = (BarnetA, CamdenA, HammersmithA, HillingdonA, HounslowA)\n",
    "unlic_h = (BarnetB, CamdenB, HammersmithB, HillingdonB, HounslowB)\n",
    "\n",
    "ind = np.arange(N)  # the x locations for the groups\n",
    "width = 0.35       # the width of the bars\n",
    "\n",
    "fig, ax = plt.subplots()\n",
    "rects1 = ax.bar(ind, lic_h, width, color='r') \n",
    "rects2 = ax.bar(ind + width, unlic_h, width, color='y')\n",
    "\n",
    "# add some text for labels, title and axes ticks\n",
    "ax.set_ylabel('Number of licensed/Unlicensed Houses')\n",
    "ax.set_xticks(ind + width / 2)\n",
    "ax.set_xticklabels(('Barnet', 'Camden', 'Hammersmith', 'Hillingdon', 'Hounslow'))\n",
    "\n",
    "ax.legend((rects1[0], rects2[0]), ('Licenced','Unlicenced'))\n",
    "\n",
    "\n",
    "def autolabel(rects):\n",
    "    \"\"\"\n",
    "    Attach a text label above each bar displaying its height\n",
    "    \"\"\"\n",
    "    for rect in rects:\n",
    "        height = rect.get_height()\n",
    "        ax.text(rect.get_x() + rect.get_width()/2., 1.05*height,\n",
    "                '%d' % int(height),\n",
    "                ha='center', va='bottom')\n",
    "\n",
    "autolabel(rects1)\n",
    "autolabel(rects2)\n",
    "\n",
    "plt.show()"
   ]
  },
  {
   "cell_type": "code",
   "execution_count": 19,
   "metadata": {},
   "outputs": [
    {
     "data": {
      "text/html": [
       "<script>\n",
       "code_show=true; \n",
       "function code_toggle() {\n",
       " if (code_show){\n",
       " $('div.input').hide();\n",
       " } else {\n",
       " $('div.input').show();\n",
       " }\n",
       " code_show = !code_show\n",
       "} \n",
       "$( document ).ready(code_toggle);\n",
       "</script>\n",
       "<form action=\"javascript:code_toggle()\"><input type=\"submit\" value=\"Click here to toggle on/off the raw code.\"></form>"
      ],
      "text/plain": [
       "<IPython.core.display.HTML object>"
      ]
     },
     "execution_count": 19,
     "metadata": {},
     "output_type": "execute_result"
    }
   ],
   "source": [
    "from IPython.display import HTML\n",
    "\n",
    "HTML('''<script>\n",
    "code_show=true; \n",
    "function code_toggle() {\n",
    " if (code_show){\n",
    " $('div.input').hide();\n",
    " } else {\n",
    " $('div.input').show();\n",
    " }\n",
    " code_show = !code_show\n",
    "} \n",
    "$( document ).ready(code_toggle);\n",
    "</script>\n",
    "<form action=\"javascript:code_toggle()\"><input type=\"submit\" value=\"Click here to toggle on/off the raw code.\"></form>''')\n",
    "\n",
    "\n"
   ]
  }
 ],
 "metadata": {
  "kernelspec": {
   "display_name": "Python 3",
   "language": "python",
   "name": "python3"
  },
  "language_info": {
   "codemirror_mode": {
    "name": "ipython",
    "version": 3
   },
   "file_extension": ".py",
   "mimetype": "text/x-python",
   "name": "python",
   "nbconvert_exporter": "python",
   "pygments_lexer": "ipython3",
   "version": "3.6.1"
  }
 },
 "nbformat": 4,
 "nbformat_minor": 2
}
